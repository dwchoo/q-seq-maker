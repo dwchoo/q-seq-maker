{
 "cells": [
  {
   "cell_type": "code",
   "execution_count": 1,
   "id": "chief-damage",
   "metadata": {},
   "outputs": [
    {
     "data": {
      "text/html": [
       "<style>.container {width:95% !important;}</style>"
      ],
      "text/plain": [
       "<IPython.core.display.HTML object>"
      ]
     },
     "metadata": {},
     "output_type": "display_data"
    }
   ],
   "source": [
    "from IPython.core.display import display, HTML\n",
    "display(HTML(\"<style>.container {width:95% !important;}</style>\"))\n",
    "%load_ext autoreload\n",
    "%autoreload 2"
   ]
  },
  {
   "cell_type": "code",
   "execution_count": 2,
   "id": "geological-quilt",
   "metadata": {},
   "outputs": [],
   "source": [
    "import os\n",
    "import sys\n",
    "module_path = os.path.abspath(os.path.join('..'))\n",
    "if module_path not in sys.path:\n",
    "    sys.path.append(module_path)"
   ]
  },
  {
   "cell_type": "code",
   "execution_count": 38,
   "id": "stunning-thanksgiving",
   "metadata": {},
   "outputs": [],
   "source": [
    "#from seq_generator.query_generator import *\n",
    "#from seq_generator.mismatch_generator import *\n",
    "#from encoder_decoder.seq_encoder_decoder import *\n",
    "#import encoder_decoder.seq_encoder_decoder\n",
    "from seq_generator.data_generator import *\n",
    "from job_script.cas_offinder_job import *"
   ]
  },
  {
   "cell_type": "code",
   "execution_count": 4,
   "id": "egyptian-webster",
   "metadata": {},
   "outputs": [],
   "source": [
    "import numpy as np"
   ]
  },
  {
   "cell_type": "code",
   "execution_count": 5,
   "id": "necessary-february",
   "metadata": {},
   "outputs": [],
   "source": [
    "tmp_data = generate_8_nC2_data(\n",
    "    num_set = 1,\n",
    "    threshold = 7,\n",
    "    log = True,\n",
    "    job_name = 'test',\n",
    "    save_path = '.'\n",
    ")"
   ]
  },
  {
   "cell_type": "code",
   "execution_count": 6,
   "id": "concerned-viking",
   "metadata": {},
   "outputs": [
    {
     "data": {
      "text/plain": [
       "array(['TTATTGCAAGTATAATAGAT', 'CATTTAAGATTTCTGGACCG',\n",
       "       'GATGTAACTCTGCATAATCC', 'TTAGTATCCCGGGCGCCTGG',\n",
       "       'GGATCGCATAAATATATATG', 'GGCCGCCAACAATGCCCTGG',\n",
       "       'CGCGCCCACGCCCGTAATAA', 'GCCTGTACGCCGGGGACGGT'], dtype='<U20')"
      ]
     },
     "execution_count": 6,
     "metadata": {},
     "output_type": "execute_result"
    }
   ],
   "source": [
    "tmp_query = tmp_data.query_data\n",
    "tmp_query"
   ]
  },
  {
   "cell_type": "code",
   "execution_count": 9,
   "id": "separate-wales",
   "metadata": {},
   "outputs": [],
   "source": [
    "make_cas_offinder_script(\n",
    "    query_seq_list = tmp_query,\n",
    "    job_name = 'test_job',\n",
    "    job_path = f'./test',\n",
    ")"
   ]
  },
  {
   "cell_type": "code",
   "execution_count": null,
   "id": "broad-import",
   "metadata": {},
   "outputs": [],
   "source": [
    "seq_list = tmp_query\n",
    "batch_type_code_seq_list = []\n",
    "for _seq in seq_list:\n",
    "    _type_code = query_type_code_encoder.seq_type_code_encoder(_seq)\n",
    "    batch_type_code_seq_list.append((_type_code,_seq))"
   ]
  },
  {
   "cell_type": "code",
   "execution_count": null,
   "id": "athletic-purchase",
   "metadata": {},
   "outputs": [],
   "source": [
    "np.array(batch_type_code_seq_list)"
   ]
  },
  {
   "cell_type": "code",
   "execution_count": null,
   "id": "above-evans",
   "metadata": {},
   "outputs": [],
   "source": [
    "len(seq_list.shape)"
   ]
  },
  {
   "cell_type": "code",
   "execution_count": null,
   "id": "olympic-chamber",
   "metadata": {},
   "outputs": [],
   "source": [
    "seq_list.dtype"
   ]
  },
  {
   "cell_type": "code",
   "execution_count": 36,
   "id": "assured-contest",
   "metadata": {},
   "outputs": [
    {
     "data": {
      "text/plain": [
       "['0', '1', '2', '3']"
      ]
     },
     "execution_count": 36,
     "metadata": {},
     "output_type": "execute_result"
    }
   ],
   "source": []
  },
  {
   "cell_type": "code",
   "execution_count": 12,
   "id": "twenty-lincoln",
   "metadata": {},
   "outputs": [],
   "source": [
    "import pandas as pd"
   ]
  },
  {
   "cell_type": "code",
   "execution_count": 39,
   "id": "right-wesley",
   "metadata": {},
   "outputs": [
    {
     "data": {
      "text/html": [
       "<div>\n",
       "<style scoped>\n",
       "    .dataframe tbody tr th:only-of-type {\n",
       "        vertical-align: middle;\n",
       "    }\n",
       "\n",
       "    .dataframe tbody tr th {\n",
       "        vertical-align: top;\n",
       "    }\n",
       "\n",
       "    .dataframe thead th {\n",
       "        text-align: right;\n",
       "    }\n",
       "</style>\n",
       "<table border=\"1\" class=\"dataframe\">\n",
       "  <thead>\n",
       "    <tr style=\"text-align: right;\">\n",
       "      <th></th>\n",
       "      <th>Type_code</th>\n",
       "      <th>query</th>\n",
       "      <th>GC_rate</th>\n",
       "      <th>AT_rate</th>\n",
       "      <th>mis_0</th>\n",
       "      <th>mis_1</th>\n",
       "      <th>mis_2</th>\n",
       "      <th>mis_3</th>\n",
       "      <th>mis_4</th>\n",
       "    </tr>\n",
       "  </thead>\n",
       "  <tbody>\n",
       "    <tr>\n",
       "      <th>0</th>\n",
       "      <td>222</td>\n",
       "      <td>TTATTGCAAGTATAATAGAT</td>\n",
       "      <td>0.2</td>\n",
       "      <td>0.8</td>\n",
       "      <td>0</td>\n",
       "      <td>0</td>\n",
       "      <td>2</td>\n",
       "      <td>11</td>\n",
       "      <td>230</td>\n",
       "    </tr>\n",
       "    <tr>\n",
       "      <th>1</th>\n",
       "      <td>221</td>\n",
       "      <td>CATTTAAGATTTCTGGACCG</td>\n",
       "      <td>0.4</td>\n",
       "      <td>0.6</td>\n",
       "      <td>0</td>\n",
       "      <td>1</td>\n",
       "      <td>6</td>\n",
       "      <td>114</td>\n",
       "      <td>295</td>\n",
       "    </tr>\n",
       "    <tr>\n",
       "      <th>2</th>\n",
       "      <td>212</td>\n",
       "      <td>GATGTAACTCTGCATAATCC</td>\n",
       "      <td>0.4</td>\n",
       "      <td>0.6</td>\n",
       "      <td>0</td>\n",
       "      <td>0</td>\n",
       "      <td>0</td>\n",
       "      <td>5</td>\n",
       "      <td>78</td>\n",
       "    </tr>\n",
       "    <tr>\n",
       "      <th>3</th>\n",
       "      <td>211</td>\n",
       "      <td>TTAGTATCCCGGGCGCCTGG</td>\n",
       "      <td>0.65</td>\n",
       "      <td>0.35</td>\n",
       "      <td>0</td>\n",
       "      <td>0</td>\n",
       "      <td>0</td>\n",
       "      <td>2</td>\n",
       "      <td>30</td>\n",
       "    </tr>\n",
       "    <tr>\n",
       "      <th>4</th>\n",
       "      <td>122</td>\n",
       "      <td>GGATCGCATAAATATATATG</td>\n",
       "      <td>0.3</td>\n",
       "      <td>0.7</td>\n",
       "      <td>0</td>\n",
       "      <td>0</td>\n",
       "      <td>0</td>\n",
       "      <td>6</td>\n",
       "      <td>111</td>\n",
       "    </tr>\n",
       "    <tr>\n",
       "      <th>5</th>\n",
       "      <td>121</td>\n",
       "      <td>GGCCGCCAACAATGCCCTGG</td>\n",
       "      <td>0.7</td>\n",
       "      <td>0.3</td>\n",
       "      <td>0</td>\n",
       "      <td>0</td>\n",
       "      <td>1</td>\n",
       "      <td>11</td>\n",
       "      <td>77</td>\n",
       "    </tr>\n",
       "    <tr>\n",
       "      <th>6</th>\n",
       "      <td>112</td>\n",
       "      <td>CGCGCCCACGCCCGTAATAA</td>\n",
       "      <td>0.65</td>\n",
       "      <td>0.35</td>\n",
       "      <td>0</td>\n",
       "      <td>0</td>\n",
       "      <td>0</td>\n",
       "      <td>0</td>\n",
       "      <td>5</td>\n",
       "    </tr>\n",
       "    <tr>\n",
       "      <th>7</th>\n",
       "      <td>111</td>\n",
       "      <td>GCCTGTACGCCGGGGACGGT</td>\n",
       "      <td>0.75</td>\n",
       "      <td>0.25</td>\n",
       "      <td>0</td>\n",
       "      <td>0</td>\n",
       "      <td>0</td>\n",
       "      <td>3</td>\n",
       "      <td>54</td>\n",
       "    </tr>\n",
       "  </tbody>\n",
       "</table>\n",
       "</div>"
      ],
      "text/plain": [
       "  Type_code                 query GC_rate AT_rate mis_0 mis_1 mis_2 mis_3 mis_4\n",
       "0       222  TTATTGCAAGTATAATAGAT     0.2     0.8     0     0     2    11   230\n",
       "1       221  CATTTAAGATTTCTGGACCG     0.4     0.6     0     1     6   114   295\n",
       "2       212  GATGTAACTCTGCATAATCC     0.4     0.6     0     0     0     5    78\n",
       "3       211  TTAGTATCCCGGGCGCCTGG    0.65    0.35     0     0     0     2    30\n",
       "4       122  GGATCGCATAAATATATATG     0.3     0.7     0     0     0     6   111\n",
       "5       121  GGCCGCCAACAATGCCCTGG     0.7     0.3     0     0     1    11    77\n",
       "6       112  CGCGCCCACGCCCGTAATAA    0.65    0.35     0     0     0     0     5\n",
       "7       111  GCCTGTACGCCGGGGACGGT    0.75    0.25     0     0     0     3    54"
      ]
     },
     "execution_count": 39,
     "metadata": {},
     "output_type": "execute_result"
    }
   ],
   "source": [
    "analysis_cas_offinder_result(\n",
    "    output_file_path='./test/test_job_out.txt',\n",
    "    query_text_path='./test/test_query.txt',\n",
    "    save_csv=True,\n",
    ")"
   ]
  },
  {
   "cell_type": "code",
   "execution_count": 28,
   "id": "eight-moral",
   "metadata": {},
   "outputs": [
    {
     "name": "stdout",
     "output_type": "stream",
     "text": [
      "> \u001b[0;32m/usr/local/lib/python3.7/dist-packages/pandas/core/frame.py\u001b[0m(590)\u001b[0;36m__init__\u001b[0;34m()\u001b[0m\n",
      "\u001b[0;32m    588 \u001b[0;31m        \u001b[0;32melse\u001b[0m\u001b[0;34m:\u001b[0m\u001b[0;34m\u001b[0m\u001b[0;34m\u001b[0m\u001b[0m\n",
      "\u001b[0m\u001b[0;32m    589 \u001b[0;31m            \u001b[0;32mif\u001b[0m \u001b[0mindex\u001b[0m \u001b[0;32mis\u001b[0m \u001b[0;32mNone\u001b[0m \u001b[0;32mor\u001b[0m \u001b[0mcolumns\u001b[0m \u001b[0;32mis\u001b[0m \u001b[0;32mNone\u001b[0m\u001b[0;34m:\u001b[0m\u001b[0;34m\u001b[0m\u001b[0;34m\u001b[0m\u001b[0m\n",
      "\u001b[0m\u001b[0;32m--> 590 \u001b[0;31m                \u001b[0;32mraise\u001b[0m \u001b[0mValueError\u001b[0m\u001b[0;34m(\u001b[0m\u001b[0;34m\"DataFrame constructor not properly called!\"\u001b[0m\u001b[0;34m)\u001b[0m\u001b[0;34m\u001b[0m\u001b[0;34m\u001b[0m\u001b[0m\n",
      "\u001b[0m\u001b[0;32m    591 \u001b[0;31m\u001b[0;34m\u001b[0m\u001b[0m\n",
      "\u001b[0m\u001b[0;32m    592 \u001b[0;31m            \u001b[0;32mif\u001b[0m \u001b[0;32mnot\u001b[0m \u001b[0mdtype\u001b[0m\u001b[0;34m:\u001b[0m\u001b[0;34m\u001b[0m\u001b[0;34m\u001b[0m\u001b[0m\n",
      "\u001b[0m\n",
      "ipdb> exit\n"
     ]
    }
   ],
   "source": [
    "%debug"
   ]
  },
  {
   "cell_type": "code",
   "execution_count": null,
   "id": "disciplinary-title",
   "metadata": {},
   "outputs": [],
   "source": []
  },
  {
   "cell_type": "code",
   "execution_count": null,
   "id": "subject-share",
   "metadata": {},
   "outputs": [],
   "source": []
  },
  {
   "cell_type": "code",
   "execution_count": null,
   "id": "forty-sauce",
   "metadata": {},
   "outputs": [],
   "source": [
    "import pathlib"
   ]
  },
  {
   "cell_type": "code",
   "execution_count": null,
   "id": "bibliographic-archives",
   "metadata": {},
   "outputs": [],
   "source": [
    "file_path = '/root/volume/q-seq-maker/jupyter_notebook'\n",
    "if pathlib.PureWindowsPath(file_path).suffix:\n",
    "    print(\"file\")\n",
    "    print(pathlib.Path(file_path).parent)\n",
    "else:\n",
    "    print('dir')\n",
    "    print(pathlib.PureWindowsPath(file_path))"
   ]
  },
  {
   "cell_type": "code",
   "execution_count": null,
   "id": "adjacent-religion",
   "metadata": {},
   "outputs": [],
   "source": [
    "print(pathlib.Path(file_path).suffix)"
   ]
  },
  {
   "cell_type": "code",
   "execution_count": null,
   "id": "brutal-princeton",
   "metadata": {},
   "outputs": [],
   "source": []
  }
 ],
 "metadata": {
  "kernelspec": {
   "display_name": "Python 3",
   "language": "python",
   "name": "python3"
  },
  "language_info": {
   "codemirror_mode": {
    "name": "ipython",
    "version": 3
   },
   "file_extension": ".py",
   "mimetype": "text/x-python",
   "name": "python",
   "nbconvert_exporter": "python",
   "pygments_lexer": "ipython3",
   "version": "3.7.9"
  }
 },
 "nbformat": 4,
 "nbformat_minor": 5
}
