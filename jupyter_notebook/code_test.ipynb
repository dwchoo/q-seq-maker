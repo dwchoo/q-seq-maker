{
 "cells": [
  {
   "cell_type": "code",
   "execution_count": 1,
   "metadata": {},
   "outputs": [
    {
     "data": {
      "text/html": [
       "<style>.container {width:95% !important;}</style>"
      ],
      "text/plain": [
       "<IPython.core.display.HTML object>"
      ]
     },
     "metadata": {},
     "output_type": "display_data"
    }
   ],
   "source": [
    "from IPython.core.display import display, HTML\n",
    "display(HTML(\"<style>.container {width:95% !important;}</style>\"))\n",
    "%load_ext autoreload\n",
    "%autoreload 2"
   ]
  },
  {
   "cell_type": "code",
   "execution_count": 2,
   "metadata": {},
   "outputs": [],
   "source": [
    "import os\n",
    "import sys\n",
    "module_path = os.path.abspath(os.path.join('..'))\n",
    "if module_path not in sys.path:\n",
    "    sys.path.append(module_path)"
   ]
  },
  {
   "cell_type": "code",
   "execution_count": 88,
   "metadata": {},
   "outputs": [],
   "source": [
    "#from seq_generator.query_generator import *\n",
    "#from seq_generator.mismatch_generator import *\n",
    "from encoder_decoder.seq_encoder_decoder import *\n",
    "#import encoder_decoder.seq_encoder_decoder\n",
    "from seq_generator.data_generator import *\n",
    "from job_script.cas_offinder_job import *"
   ]
  },
  {
   "cell_type": "code",
   "execution_count": 4,
   "metadata": {},
   "outputs": [],
   "source": [
    "import numpy as np"
   ]
  },
  {
   "cell_type": "code",
   "execution_count": 5,
   "metadata": {},
   "outputs": [],
   "source": [
    "job_name = 'mis_save_test'\n",
    "path = '.'"
   ]
  },
  {
   "cell_type": "code",
   "execution_count": 6,
   "metadata": {},
   "outputs": [],
   "source": [
    "tmp_data = generate_8_nC2_data(\n",
    "    num_set = 3,\n",
    "    threshold = 7,\n",
    "    log = True,\n",
    "    job_name = job_name,\n",
    "    save_path = path,\n",
    ")"
   ]
  },
  {
   "cell_type": "code",
   "execution_count": 13,
   "metadata": {},
   "outputs": [
    {
     "data": {
      "text/plain": [
       "array(['CCCAAAAAAGATTCATATGT', 'ACATTACAGACTTGTGCAGG',\n",
       "       'ATTATAAGGAGGGGTTCCAT', 'TTTATGTCCCACCGCGTCCC',\n",
       "       'GGCCGGTATATACCAGCAAA', 'GGACGGGTGAATAGCGGTAC',\n",
       "       'CGGCCGTCGCCCCCAAGGAT', 'ACGGTCACCGCAGGGGGGGT',\n",
       "       'CTTTTTTTATTTTTGTTTTA', 'GTAGAATTTCATGTAGGCTC',\n",
       "       'CCGTAAAACCTGCGATATTA', 'TTTATTTCACCGCGCCGCAA',\n",
       "       'GCTCGGGCTAACCAATATTT', 'GATTGGCATTATTACGGCTC',\n",
       "       'CATGGGACGAGCATTGATAA', 'CCCCCGGGCCGGCGCGCTCA',\n",
       "       'TATGTATTACTGTTTTTTCA', 'TCAGATAAAAATTTGGCGCG',\n",
       "       'AATTACTGGGATGGGAAAAT', 'TTTCTACGCGGGAGTGTGCG',\n",
       "       'CTACGGCAAAGTAATCTTTG', 'CGAAAGGACTACAACCGGAC',\n",
       "       'GCTCCACGCACGAATATAAA', 'GGGCCTGCCCCCTGCTCGCC'], dtype='<U20')"
      ]
     },
     "execution_count": 13,
     "metadata": {},
     "output_type": "execute_result"
    }
   ],
   "source": [
    "tmp_data.ontarget_data"
   ]
  },
  {
   "cell_type": "code",
   "execution_count": 10,
   "metadata": {},
   "outputs": [
    {
     "data": {
      "text/plain": [
       "(24, 60)"
      ]
     },
     "execution_count": 10,
     "metadata": {},
     "output_type": "execute_result"
    }
   ],
   "source": [
    "tmp_data.mis_1_data.shape"
   ]
  },
  {
   "cell_type": "code",
   "execution_count": 16,
   "metadata": {},
   "outputs": [
    {
     "data": {
      "text/plain": [
       "(24, 570)"
      ]
     },
     "execution_count": 16,
     "metadata": {},
     "output_type": "execute_result"
    }
   ],
   "source": [
    "tmp_data.mis_2_data.shape"
   ]
  },
  {
   "cell_type": "code",
   "execution_count": 18,
   "metadata": {},
   "outputs": [
    {
     "data": {
      "text/plain": [
       "(24, 80)"
      ]
     },
     "execution_count": 18,
     "metadata": {},
     "output_type": "execute_result"
    }
   ],
   "source": [
    "tmp_data.mis_2_dis_data.shape"
   ]
  },
  {
   "cell_type": "code",
   "execution_count": null,
   "metadata": {},
   "outputs": [],
   "source": []
  },
  {
   "cell_type": "code",
   "execution_count": null,
   "metadata": {},
   "outputs": [],
   "source": [
    "#run_cas_offinder(\n",
    "#    file_path = f\"{path}/{job_name}/run_{job_name}_script.sh\",\n",
    "#    log = True\n",
    "#)"
   ]
  },
  {
   "cell_type": "code",
   "execution_count": null,
   "metadata": {},
   "outputs": [],
   "source": [
    "tmp_df = analysis_cas_offinder_result(\n",
    "    output_file_path = f\"{path}/{job_name}/{job_name}_output.txt\",\n",
    "    query_text_path = f\"{path}/{job_name}/query_{job_name}.txt\",\n",
    ")"
   ]
  },
  {
   "cell_type": "code",
   "execution_count": null,
   "metadata": {},
   "outputs": [],
   "source": [
    "tmp_df"
   ]
  },
  {
   "cell_type": "code",
   "execution_count": null,
   "metadata": {},
   "outputs": [],
   "source": []
  },
  {
   "cell_type": "code",
   "execution_count": null,
   "metadata": {},
   "outputs": [],
   "source": []
  },
  {
   "cell_type": "code",
   "execution_count": null,
   "metadata": {},
   "outputs": [],
   "source": [
    "def query_seq_generate(job_name, path='./', method=generate_8_nC2_data):\n",
    "    job_path = f\"{path}/{job_name}\"\n",
    "    cas_offinder_script_path = f\"{job_path}/run_{job_name}_script.sh\"\n",
    "    output_file_path = f\"{job_path}/{job_name}_output.txt\"\n",
    "    query_file_path = f\"{job_path}/{job_name}_query.txt\"\n",
    "    data = method(\n",
    "        num_set = 3,\n",
    "        threshold = 7,\n",
    "        log = True,\n",
    "        job_name = job_name,\n",
    "        save_path = path,\n",
    "    )\n",
    "    make_cas_offinder_script(\n",
    "        query_seq_list = data.query_data,\n",
    "        job_name = job_name,\n",
    "        job_path = job_path,\n",
    "    )\n",
    "    run_cas_offinder(\n",
    "        file_path = cas_offinder_script_path,\n",
    "        log = True,\n",
    "    )\n",
    "    result_df = analysis_cas_offinder_result(\n",
    "        output_file_path = output_file_path,\n",
    "        query_text_path = query_file_path,\n",
    "    )\n",
    "    return result_df"
   ]
  },
  {
   "cell_type": "code",
   "execution_count": null,
   "metadata": {},
   "outputs": [],
   "source": [
    "query_seq_generate(\n",
    "    job_name = \"pipeline_test\",\n",
    "    path = './test',\n",
    "    method = generate_8_nC2_data,\n",
    ")"
   ]
  },
  {
   "cell_type": "code",
   "execution_count": null,
   "metadata": {},
   "outputs": [],
   "source": []
  },
  {
   "cell_type": "code",
   "execution_count": null,
   "metadata": {
    "scrolled": true
   },
   "outputs": [],
   "source": [
    "tmp_data = generate_8_nC2_data(\n",
    "    num_set = 1,\n",
    "    threshold = 7,\n",
    "    log = True,\n",
    "    job_name = 'test',\n",
    "    save_path = '.'\n",
    ")"
   ]
  },
  {
   "cell_type": "code",
   "execution_count": null,
   "metadata": {},
   "outputs": [],
   "source": [
    "tmp_query = tmp_data.query_data\n",
    "tmp_query"
   ]
  },
  {
   "cell_type": "code",
   "execution_count": null,
   "metadata": {},
   "outputs": [],
   "source": [
    "make_cas_offinder_script(\n",
    "    query_seq_list = tmp_query,\n",
    "    job_name = 'test_job',\n",
    "    job_path = f'./test',\n",
    ")"
   ]
  },
  {
   "cell_type": "code",
   "execution_count": null,
   "metadata": {},
   "outputs": [],
   "source": [
    "seq_list = tmp_query\n",
    "batch_type_code_seq_list = []\n",
    "for _seq in seq_list:\n",
    "    _type_code = query_type_code_encoder.seq_type_code_encoder(_seq)\n",
    "    batch_type_code_seq_list.append((_type_code,_seq))"
   ]
  },
  {
   "cell_type": "code",
   "execution_count": null,
   "metadata": {},
   "outputs": [],
   "source": []
  },
  {
   "cell_type": "code",
   "execution_count": null,
   "metadata": {},
   "outputs": [],
   "source": [
    "import pandas as pd"
   ]
  },
  {
   "cell_type": "code",
   "execution_count": null,
   "metadata": {},
   "outputs": [],
   "source": [
    "analysis_cas_offinder_result(\n",
    "    output_file_path='./test/test_job_out.txt',\n",
    "    query_text_path='./test/test_query.txt',\n",
    "    save_csv=True,\n",
    ")"
   ]
  },
  {
   "cell_type": "code",
   "execution_count": null,
   "metadata": {},
   "outputs": [],
   "source": []
  },
  {
   "cell_type": "code",
   "execution_count": null,
   "metadata": {},
   "outputs": [],
   "source": [
    "command = [\"bash\",'../test/run_test_job_script.sh']\n",
    "cas_offinder_run = subprocess.Popen(\n",
    "    command,\n",
    "    stdin=subprocess.PIPE,\n",
    "    stdout=subprocess.PIPE,\n",
    "    stderr=subprocess.PIPE,\n",
    "    text=True,\n",
    ")"
   ]
  },
  {
   "cell_type": "code",
   "execution_count": null,
   "metadata": {},
   "outputs": [],
   "source": [
    "output, log = cas_offinder_run.communicate()"
   ]
  },
  {
   "cell_type": "code",
   "execution_count": null,
   "metadata": {},
   "outputs": [],
   "source": [
    "print(output)"
   ]
  },
  {
   "cell_type": "code",
   "execution_count": null,
   "metadata": {},
   "outputs": [],
   "source": [
    "print(log)"
   ]
  },
  {
   "cell_type": "code",
   "execution_count": null,
   "metadata": {},
   "outputs": [],
   "source": []
  },
  {
   "cell_type": "code",
   "execution_count": null,
   "metadata": {},
   "outputs": [],
   "source": []
  },
  {
   "cell_type": "code",
   "execution_count": 79,
   "metadata": {},
   "outputs": [],
   "source": [
    "_seq_1 = 'ACGTAACCGGTT'\n",
    "_seq_1_one_hot = one_hot_encoder.seq_encoder(_seq_1)\n",
    "_seq_2 = 'ACGCAAACGGTT'\n",
    "_seq_2_one_hot = one_hot_encoder.seq_encoder(_seq_2)"
   ]
  },
  {
   "cell_type": "code",
   "execution_count": 80,
   "metadata": {},
   "outputs": [],
   "source": [
    "_seq_1_prime = mismatch_calculator.seq_prime_encoder(_seq_1,mismatch_calculator.prime_main_encoder_dict)\n",
    "_seq_2_prime= mismatch_calculator.seq_prime_encoder(_seq_1,mismatch_calculator.prime_sub_encoder_dict)\n"
   ]
  },
  {
   "cell_type": "code",
   "execution_count": 89,
   "metadata": {},
   "outputs": [
    {
     "data": {
      "text/plain": [
       "[None, None, None, 'T>C', None, None, 'C>A', None, None, None, None, None]"
      ]
     },
     "execution_count": 89,
     "metadata": {},
     "output_type": "execute_result"
    }
   ],
   "source": [
    "mismatch_info = mismatch_calculator.seq_mismatch_calculator(_seq_1,_seq_2)\n",
    "mismatch_info"
   ]
  },
  {
   "cell_type": "code",
   "execution_count": 90,
   "metadata": {},
   "outputs": [],
   "source": [
    "mis_info_list = []\n",
    "for index, _info in enumerate(mismatch_info):\n",
    "    if _info:\n",
    "        _tmp_info = f\"{index}:{_info}\"\n",
    "        mis_info_list.append(_tmp_info)"
   ]
  },
  {
   "cell_type": "code",
   "execution_count": 91,
   "metadata": {},
   "outputs": [
    {
     "data": {
      "text/plain": [
       "['3:T>C', '6:C>A']"
      ]
     },
     "execution_count": 91,
     "metadata": {},
     "output_type": "execute_result"
    }
   ],
   "source": [
    "mis_info_list"
   ]
  },
  {
   "cell_type": "code",
   "execution_count": 96,
   "metadata": {},
   "outputs": [
    {
     "data": {
      "text/plain": [
       "'3:T>C,6:C>A'"
      ]
     },
     "execution_count": 96,
     "metadata": {},
     "output_type": "execute_result"
    }
   ],
   "source": [
    "','.join(mis_info_list)"
   ]
  },
  {
   "cell_type": "code",
   "execution_count": null,
   "metadata": {},
   "outputs": [],
   "source": []
  },
  {
   "cell_type": "code",
   "execution_count": 43,
   "metadata": {},
   "outputs": [],
   "source": [
    "seq_one_hot = seq_one_hot\n",
    "seq_tmp = []\n",
    "for letter_one_hot in seq_one_hot:\n",
    "    one_hot_pos_list = np.array(letter_one_hot, dtype=np.int8)\n",
    "    one_hot_pos_code = ''.join(map(str,one_hot_pos_list))\n",
    "    seq_tmp.append(one_hot_pos_code)"
   ]
  },
  {
   "cell_type": "code",
   "execution_count": 44,
   "metadata": {},
   "outputs": [
    {
     "data": {
      "text/plain": [
       "['0000',\n",
       " '0000',\n",
       " '0000',\n",
       " '0-101',\n",
       " '0000',\n",
       " '0000',\n",
       " '0000',\n",
       " '0000',\n",
       " '0000',\n",
       " '0000',\n",
       " '0000',\n",
       " '0000']"
      ]
     },
     "execution_count": 44,
     "metadata": {},
     "output_type": "execute_result"
    }
   ],
   "source": [
    "seq_tmp"
   ]
  },
  {
   "cell_type": "code",
   "execution_count": 48,
   "metadata": {},
   "outputs": [
    {
     "name": "stdout",
     "output_type": "stream",
     "text": [
      "7\n",
      "11\n",
      "13\n",
      "17\n",
      "14\n",
      "22\n",
      "26\n",
      "34\n",
      "21\n",
      "33\n",
      "39\n",
      "51\n",
      "35\n",
      "55\n",
      "65\n",
      "85\n"
     ]
    }
   ],
   "source": [
    "list_1 = [1,2,3,5]\n",
    "list_2 = [7,11,13,17]\n",
    "for l1 in list_1:\n",
    "    for l2 in list_2:\n",
    "        print(l1*l2)"
   ]
  },
  {
   "cell_type": "code",
   "execution_count": 51,
   "metadata": {},
   "outputs": [
    {
     "data": {
      "text/plain": [
       "-127"
      ]
     },
     "execution_count": 51,
     "metadata": {},
     "output_type": "execute_result"
    }
   ],
   "source": [
    "np.int8(-127)"
   ]
  },
  {
   "cell_type": "code",
   "execution_count": null,
   "metadata": {},
   "outputs": [],
   "source": []
  }
 ],
 "metadata": {
  "kernelspec": {
   "display_name": "Python 3",
   "language": "python",
   "name": "python3"
  },
  "language_info": {
   "codemirror_mode": {
    "name": "ipython",
    "version": 3
   },
   "file_extension": ".py",
   "mimetype": "text/x-python",
   "name": "python",
   "nbconvert_exporter": "python",
   "pygments_lexer": "ipython3",
   "version": "3.7.9"
  }
 },
 "nbformat": 4,
 "nbformat_minor": 5
}
