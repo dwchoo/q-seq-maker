{
 "cells": [
  {
   "cell_type": "code",
   "execution_count": 1,
   "metadata": {},
   "outputs": [
    {
     "data": {
      "text/html": [
       "<style>.container {width:95% !important;}</style>"
      ],
      "text/plain": [
       "<IPython.core.display.HTML object>"
      ]
     },
     "metadata": {},
     "output_type": "display_data"
    }
   ],
   "source": [
    "from IPython.core.display import display, HTML\n",
    "display(HTML(\"<style>.container {width:95% !important;}</style>\"))\n",
    "%load_ext autoreload\n",
    "%autoreload 2"
   ]
  },
  {
   "cell_type": "code",
   "execution_count": 2,
   "metadata": {},
   "outputs": [],
   "source": [
    "import os\n",
    "import sys\n",
    "module_path = os.path.abspath(os.path.join('..'))\n",
    "if module_path not in sys.path:\n",
    "    sys.path.append(module_path)"
   ]
  },
  {
   "cell_type": "code",
   "execution_count": 151,
   "metadata": {},
   "outputs": [],
   "source": [
    "#from seq_generator.query_generator import *\n",
    "from seq_generator.mismatch_generator import *\n",
    "from encoder_decoder.seq_encoder_decoder import *\n",
    "#import encoder_decoder.seq_encoder_decoder\n",
    "from seq_generator.data_generator import *\n",
    "from job_script.cas_offinder_job import *"
   ]
  },
  {
   "cell_type": "code",
   "execution_count": 144,
   "metadata": {},
   "outputs": [],
   "source": [
    "import numpy as np"
   ]
  },
  {
   "cell_type": "code",
   "execution_count": 180,
   "metadata": {},
   "outputs": [],
   "source": [
    "ontarget = 'TTTCCCTTCAGCTAAAATAA'\n",
    "seq_type = 222\n",
    "job_name = f'type_{seq_type}'\n",
    "save_path = '../data/other_paper_offtarget'"
   ]
  },
  {
   "cell_type": "code",
   "execution_count": 181,
   "metadata": {},
   "outputs": [],
   "source": [
    "NB_data = generate_NB_mm_from_query(ontarget,job_name,save_path)"
   ]
  },
  {
   "cell_type": "code",
   "execution_count": 182,
   "metadata": {},
   "outputs": [],
   "source": [
    "NB_data.save_seq_to_text()"
   ]
  },
  {
   "cell_type": "code",
   "execution_count": 183,
   "metadata": {},
   "outputs": [
    {
     "data": {
      "text/html": [
       "<div>\n",
       "<style scoped>\n",
       "    .dataframe tbody tr th:only-of-type {\n",
       "        vertical-align: middle;\n",
       "    }\n",
       "\n",
       "    .dataframe tbody tr th {\n",
       "        vertical-align: top;\n",
       "    }\n",
       "\n",
       "    .dataframe thead th {\n",
       "        text-align: right;\n",
       "    }\n",
       "</style>\n",
       "<table border=\"1\" class=\"dataframe\">\n",
       "  <thead>\n",
       "    <tr style=\"text-align: right;\">\n",
       "      <th></th>\n",
       "      <th>on-target</th>\n",
       "      <th>off-target</th>\n",
       "      <th>number of mismatch</th>\n",
       "      <th>mismatch info</th>\n",
       "    </tr>\n",
       "  </thead>\n",
       "  <tbody>\n",
       "    <tr>\n",
       "      <th>0</th>\n",
       "      <td>TTTCCCTTCAGCTAAAATAA</td>\n",
       "      <td>ATTCCCTTCAGCTAAAATAA</td>\n",
       "      <td>1</td>\n",
       "      <td>1:T&gt;A</td>\n",
       "    </tr>\n",
       "    <tr>\n",
       "      <th>1</th>\n",
       "      <td>TTTCCCTTCAGCTAAAATAA</td>\n",
       "      <td>CTTCCCTTCAGCTAAAATAA</td>\n",
       "      <td>1</td>\n",
       "      <td>1:T&gt;C</td>\n",
       "    </tr>\n",
       "    <tr>\n",
       "      <th>2</th>\n",
       "      <td>TTTCCCTTCAGCTAAAATAA</td>\n",
       "      <td>GTTCCCTTCAGCTAAAATAA</td>\n",
       "      <td>1</td>\n",
       "      <td>1:T&gt;G</td>\n",
       "    </tr>\n",
       "    <tr>\n",
       "      <th>3</th>\n",
       "      <td>TTTCCCTTCAGCTAAAATAA</td>\n",
       "      <td>TATCCCTTCAGCTAAAATAA</td>\n",
       "      <td>1</td>\n",
       "      <td>2:T&gt;A</td>\n",
       "    </tr>\n",
       "    <tr>\n",
       "      <th>4</th>\n",
       "      <td>TTTCCCTTCAGCTAAAATAA</td>\n",
       "      <td>TCTCCCTTCAGCTAAAATAA</td>\n",
       "      <td>1</td>\n",
       "      <td>2:T&gt;C</td>\n",
       "    </tr>\n",
       "    <tr>\n",
       "      <th>...</th>\n",
       "      <td>...</td>\n",
       "      <td>...</td>\n",
       "      <td>...</td>\n",
       "      <td>...</td>\n",
       "    </tr>\n",
       "    <tr>\n",
       "      <th>815</th>\n",
       "      <td>TTTCCCTTCAGCTAAAATAA</td>\n",
       "      <td>TTTCCCTTCAGCTAAAAAAC</td>\n",
       "      <td>2</td>\n",
       "      <td>18:T&gt;A,20:A&gt;C</td>\n",
       "    </tr>\n",
       "    <tr>\n",
       "      <th>816</th>\n",
       "      <td>TTTCCCTTCAGCTAAAATAA</td>\n",
       "      <td>TTTCCCTTCAGCTAAAATGG</td>\n",
       "      <td>2</td>\n",
       "      <td>19:A&gt;G,20:A&gt;G</td>\n",
       "    </tr>\n",
       "    <tr>\n",
       "      <th>817</th>\n",
       "      <td>TTTCCCTTCAGCTAAAATAA</td>\n",
       "      <td>TTTCCCTTCAGCTAAAATGC</td>\n",
       "      <td>2</td>\n",
       "      <td>19:A&gt;G,20:A&gt;C</td>\n",
       "    </tr>\n",
       "    <tr>\n",
       "      <th>818</th>\n",
       "      <td>TTTCCCTTCAGCTAAAATAA</td>\n",
       "      <td>TTTCCCTTCAGCTAAAATTG</td>\n",
       "      <td>2</td>\n",
       "      <td>19:A&gt;T,20:A&gt;G</td>\n",
       "    </tr>\n",
       "    <tr>\n",
       "      <th>819</th>\n",
       "      <td>TTTCCCTTCAGCTAAAATAA</td>\n",
       "      <td>TTTCCCTTCAGCTAAAATTC</td>\n",
       "      <td>2</td>\n",
       "      <td>19:A&gt;T,20:A&gt;C</td>\n",
       "    </tr>\n",
       "  </tbody>\n",
       "</table>\n",
       "<p>820 rows × 4 columns</p>\n",
       "</div>"
      ],
      "text/plain": [
       "                on-target            off-target  number of mismatch  \\\n",
       "0    TTTCCCTTCAGCTAAAATAA  ATTCCCTTCAGCTAAAATAA                   1   \n",
       "1    TTTCCCTTCAGCTAAAATAA  CTTCCCTTCAGCTAAAATAA                   1   \n",
       "2    TTTCCCTTCAGCTAAAATAA  GTTCCCTTCAGCTAAAATAA                   1   \n",
       "3    TTTCCCTTCAGCTAAAATAA  TATCCCTTCAGCTAAAATAA                   1   \n",
       "4    TTTCCCTTCAGCTAAAATAA  TCTCCCTTCAGCTAAAATAA                   1   \n",
       "..                    ...                   ...                 ...   \n",
       "815  TTTCCCTTCAGCTAAAATAA  TTTCCCTTCAGCTAAAAAAC                   2   \n",
       "816  TTTCCCTTCAGCTAAAATAA  TTTCCCTTCAGCTAAAATGG                   2   \n",
       "817  TTTCCCTTCAGCTAAAATAA  TTTCCCTTCAGCTAAAATGC                   2   \n",
       "818  TTTCCCTTCAGCTAAAATAA  TTTCCCTTCAGCTAAAATTG                   2   \n",
       "819  TTTCCCTTCAGCTAAAATAA  TTTCCCTTCAGCTAAAATTC                   2   \n",
       "\n",
       "     mismatch info  \n",
       "0            1:T>A  \n",
       "1            1:T>C  \n",
       "2            1:T>G  \n",
       "3            2:T>A  \n",
       "4            2:T>C  \n",
       "..             ...  \n",
       "815  18:T>A,20:A>C  \n",
       "816  19:A>G,20:A>G  \n",
       "817  19:A>G,20:A>C  \n",
       "818  19:A>T,20:A>G  \n",
       "819  19:A>T,20:A>C  \n",
       "\n",
       "[820 rows x 4 columns]"
      ]
     },
     "execution_count": 183,
     "metadata": {},
     "output_type": "execute_result"
    }
   ],
   "source": [
    "NB_data.return_dataframe(save=True)"
   ]
  },
  {
   "cell_type": "code",
   "execution_count": 148,
   "metadata": {},
   "outputs": [
    {
     "data": {
      "text/plain": [
       "array(['CCGT', 'GCGT', 'TCGT', 'AAGT', 'AGGT', 'ATGT', 'ACAT', 'ACCT',\n",
       "       'ACTT', 'ACGA', 'ACGC', 'ACGG', 'GTGT', 'GAGT', 'TTGT', 'TAGT',\n",
       "       'GCAT', 'GCCT', 'TCAT', 'TCTT', 'GCGC', 'GCGG', 'TCGC', 'CCGG',\n",
       "       'ATAT', 'ATCT', 'AGAT', 'AATT', 'ATGC', 'ATGG', 'AAGC', 'AGGA',\n",
       "       'ACAC', 'ACAG', 'ACTC', 'ACCA'], dtype='<U32')"
      ]
     },
     "execution_count": 148,
     "metadata": {},
     "output_type": "execute_result"
    }
   ],
   "source": []
  },
  {
   "cell_type": "code",
   "execution_count": 150,
   "metadata": {},
   "outputs": [],
   "source": [
    "NB_data.save_seq_to_text()"
   ]
  },
  {
   "cell_type": "code",
   "execution_count": 140,
   "metadata": {},
   "outputs": [
    {
     "data": {
      "text/plain": [
       "[seq_generator.data_generator.generate_NB_mm_from_query,\n",
       " seq_generator.data_generator.generate_mismatch_data,\n",
       " object]"
      ]
     },
     "execution_count": 140,
     "metadata": {},
     "output_type": "execute_result"
    }
   ],
   "source": []
  },
  {
   "cell_type": "code",
   "execution_count": 21,
   "metadata": {},
   "outputs": [
    {
     "ename": "AttributeError",
     "evalue": "type object 'generate_mismatch_data' has no attribute 'keys'",
     "output_type": "error",
     "traceback": [
      "\u001b[0;31m---------------------------------------------------------------------------\u001b[0m",
      "\u001b[0;31mAttributeError\u001b[0m                            Traceback (most recent call last)",
      "\u001b[0;32m<ipython-input-21-281f6a6d9f59>\u001b[0m in \u001b[0;36m<module>\u001b[0;34m\u001b[0m\n\u001b[0;32m----> 1\u001b[0;31m \u001b[0mgenerate_mismatch_data\u001b[0m\u001b[0;34m.\u001b[0m\u001b[0mkeys\u001b[0m\u001b[0;34m(\u001b[0m\u001b[0;34m)\u001b[0m\u001b[0;34m\u001b[0m\u001b[0;34m\u001b[0m\u001b[0m\n\u001b[0m",
      "\u001b[0;31mAttributeError\u001b[0m: type object 'generate_mismatch_data' has no attribute 'keys'"
     ]
    }
   ],
   "source": []
  },
  {
   "cell_type": "code",
   "execution_count": null,
   "metadata": {},
   "outputs": [],
   "source": []
  },
  {
   "cell_type": "code",
   "execution_count": null,
   "metadata": {},
   "outputs": [],
   "source": [
    "#nucleobase_method_sd = lambda l_1,l_2 : make_mismatch.change_nucleobase_two_input(l_1,l_2,[True,False])\n",
    "from functools import partial\n",
    "NB_SS = partial(make_mismatch.change_nucleobase_two_input,change_type_list=[True,True])\n",
    "SS_list = double_nC2_seq_list_with_method('ACGT',NB_SS)\n",
    "NB_SD = partial(make_mismatch.change_nucleobase_two_input,change_type_list=[True,False])\n",
    "SD_list = double_nC2_seq_list_with_method('ACGT',NB_SD)\n",
    "NB_DS = partial(make_mismatch.change_nucleobase_two_input,change_type_list=[False,True])\n",
    "DS_list = double_nC2_seq_list_with_method('ACGT',NB_DS)\n",
    "NB_DD = partial(make_mismatch.change_nucleobase_two_input,change_type_list=[False,False])\n",
    "DD_list = double_nC2_seq_list_with_method('ACGT',NB_DD)"
   ]
  },
  {
   "cell_type": "code",
   "execution_count": null,
   "metadata": {},
   "outputs": [],
   "source": [
    "lists = np.stack([SS_list,SD_list,DS_list,DD_list],axis=1)\n",
    "lists"
   ]
  },
  {
   "cell_type": "code",
   "execution_count": null,
   "metadata": {},
   "outputs": [],
   "source": [
    "lists.reshape(-1,)"
   ]
  },
  {
   "cell_type": "code",
   "execution_count": null,
   "metadata": {},
   "outputs": [],
   "source": [
    "lists"
   ]
  },
  {
   "cell_type": "code",
   "execution_count": null,
   "metadata": {},
   "outputs": [],
   "source": []
  },
  {
   "cell_type": "code",
   "execution_count": null,
   "metadata": {},
   "outputs": [],
   "source": [
    "job_name = 'mis_save_test'\n",
    "path = '.'"
   ]
  },
  {
   "cell_type": "code",
   "execution_count": null,
   "metadata": {},
   "outputs": [],
   "source": [
    "tmp_data = generate_8_nC2_data(\n",
    "    num_set = 3,\n",
    "    threshold = 7,\n",
    "    log = True,\n",
    "    job_name = job_name,\n",
    "    save_path = path,\n",
    ")"
   ]
  },
  {
   "cell_type": "code",
   "execution_count": null,
   "metadata": {},
   "outputs": [],
   "source": [
    "tmp_data.ontarget_data"
   ]
  },
  {
   "cell_type": "code",
   "execution_count": null,
   "metadata": {},
   "outputs": [],
   "source": [
    "tmp_data.mis_1_data.shape"
   ]
  },
  {
   "cell_type": "code",
   "execution_count": null,
   "metadata": {},
   "outputs": [],
   "source": [
    "tmp_data.mis_2_data.shape"
   ]
  },
  {
   "cell_type": "code",
   "execution_count": null,
   "metadata": {},
   "outputs": [],
   "source": [
    "tmp_data.mis_2_dis_data.shape"
   ]
  },
  {
   "cell_type": "code",
   "execution_count": null,
   "metadata": {},
   "outputs": [],
   "source": [
    "ontarget_list = tmp_data.ontarget_data\n",
    "offtarget_list = tmp_data.mis_2_data\n",
    "pd_data_list = []\n",
    "for _ontarget, _offtarget_list in zip(ontarget_list, offtarget_list):\n",
    "    for _offtarget in _offtarget_list:\n",
    "        _mismatch_num = mismatch_calculator.seq_mismatch_count(_ontarget,_offtarget)\n",
    "        _mismatch_info = mismatch_calculator.seq_mismatch_info_str(_ontarget, _offtarget)\n",
    "        pd_data_list.append([_ontarget,_offtarget,_mismatch_num, _mismatch_info])"
   ]
  },
  {
   "cell_type": "code",
   "execution_count": null,
   "metadata": {},
   "outputs": [],
   "source": [
    "df_columns = ['on-target','off-target','number of mismatch','mismatch info']\n",
    "df_dtype = {\n",
    "    'on-target' : 'category',\n",
    "    'off-target' : 'category',\n",
    "    'number of mismatch' : 'int8',\n",
    "}\n",
    "pd_data_df = pd.DataFrame(\n",
    "    pd_data_list,\n",
    "    columns=df_columns,\n",
    ").astype(df_dtype)"
   ]
  },
  {
   "cell_type": "code",
   "execution_count": null,
   "metadata": {},
   "outputs": [],
   "source": [
    "pd_data_df.info()"
   ]
  },
  {
   "cell_type": "code",
   "execution_count": null,
   "metadata": {},
   "outputs": [],
   "source": [
    "pd_data_df.head()"
   ]
  },
  {
   "cell_type": "code",
   "execution_count": null,
   "metadata": {},
   "outputs": [],
   "source": []
  },
  {
   "cell_type": "code",
   "execution_count": null,
   "metadata": {},
   "outputs": [],
   "source": []
  },
  {
   "cell_type": "code",
   "execution_count": null,
   "metadata": {},
   "outputs": [],
   "source": []
  },
  {
   "cell_type": "code",
   "execution_count": null,
   "metadata": {},
   "outputs": [],
   "source": []
  },
  {
   "cell_type": "code",
   "execution_count": null,
   "metadata": {},
   "outputs": [],
   "source": [
    "#run_cas_offinder(\n",
    "#    file_path = f\"{path}/{job_name}/run_{job_name}_script.sh\",\n",
    "#    log = True\n",
    "#)"
   ]
  },
  {
   "cell_type": "code",
   "execution_count": null,
   "metadata": {},
   "outputs": [],
   "source": [
    "tmp_df = analysis_cas_offinder_result(\n",
    "    output_file_path = f\"{path}/{job_name}/{job_name}_output.txt\",\n",
    "    query_text_path = f\"{path}/{job_name}/query_{job_name}.txt\",\n",
    ")"
   ]
  },
  {
   "cell_type": "code",
   "execution_count": null,
   "metadata": {},
   "outputs": [],
   "source": [
    "tmp_df"
   ]
  },
  {
   "cell_type": "code",
   "execution_count": null,
   "metadata": {},
   "outputs": [],
   "source": []
  },
  {
   "cell_type": "code",
   "execution_count": null,
   "metadata": {},
   "outputs": [],
   "source": []
  },
  {
   "cell_type": "code",
   "execution_count": null,
   "metadata": {},
   "outputs": [],
   "source": [
    "def query_seq_generate(job_name, path='./', method=generate_8_nC2_data):\n",
    "    job_path = f\"{path}/{job_name}\"\n",
    "    cas_offinder_script_path = f\"{job_path}/run_{job_name}_script.sh\"\n",
    "    output_file_path = f\"{job_path}/{job_name}_output.txt\"\n",
    "    query_file_path = f\"{job_path}/{job_name}_query.txt\"\n",
    "    data = method(\n",
    "        num_set = 3,\n",
    "        threshold = 7,\n",
    "        log = True,\n",
    "        job_name = job_name,\n",
    "        save_path = path,\n",
    "    )\n",
    "    make_cas_offinder_script(\n",
    "        query_seq_list = data.query_data,\n",
    "        job_name = job_name,\n",
    "        job_path = job_path,\n",
    "    )\n",
    "    run_cas_offinder(\n",
    "        file_path = cas_offinder_script_path,\n",
    "        log = True,\n",
    "    )\n",
    "    result_df = analysis_cas_offinder_result(\n",
    "        output_file_path = output_file_path,\n",
    "        query_text_path = query_file_path,\n",
    "    )\n",
    "    return result_df"
   ]
  },
  {
   "cell_type": "code",
   "execution_count": null,
   "metadata": {},
   "outputs": [],
   "source": [
    "query_seq_generate(\n",
    "    job_name = \"pipeline_test\",\n",
    "    path = './test',\n",
    "    method = generate_8_nC2_data,\n",
    ")"
   ]
  },
  {
   "cell_type": "code",
   "execution_count": null,
   "metadata": {},
   "outputs": [],
   "source": []
  },
  {
   "cell_type": "code",
   "execution_count": null,
   "metadata": {
    "scrolled": true
   },
   "outputs": [],
   "source": [
    "tmp_data = generate_8_nC2_data(\n",
    "    num_set = 1,\n",
    "    threshold = 7,\n",
    "    log = True,\n",
    "    job_name = 'test',\n",
    "    save_path = '.'\n",
    ")"
   ]
  },
  {
   "cell_type": "code",
   "execution_count": null,
   "metadata": {},
   "outputs": [],
   "source": [
    "tmp_query = tmp_data.query_data\n",
    "tmp_query"
   ]
  },
  {
   "cell_type": "code",
   "execution_count": null,
   "metadata": {},
   "outputs": [],
   "source": [
    "make_cas_offinder_script(\n",
    "    query_seq_list = tmp_query,\n",
    "    job_name = 'test_job',\n",
    "    job_path = f'./test',\n",
    ")"
   ]
  },
  {
   "cell_type": "code",
   "execution_count": null,
   "metadata": {},
   "outputs": [],
   "source": [
    "seq_list = tmp_query\n",
    "batch_type_code_seq_list = []\n",
    "for _seq in seq_list:\n",
    "    _type_code = query_type_code_encoder.seq_type_code_encoder(_seq)\n",
    "    batch_type_code_seq_list.append((_type_code,_seq))"
   ]
  },
  {
   "cell_type": "code",
   "execution_count": null,
   "metadata": {},
   "outputs": [],
   "source": []
  },
  {
   "cell_type": "code",
   "execution_count": null,
   "metadata": {},
   "outputs": [],
   "source": [
    "import pandas as pd"
   ]
  },
  {
   "cell_type": "code",
   "execution_count": null,
   "metadata": {},
   "outputs": [],
   "source": [
    "analysis_cas_offinder_result(\n",
    "    output_file_path='./test/test_job_out.txt',\n",
    "    query_text_path='./test/test_query.txt',\n",
    "    save_csv=True,\n",
    ")"
   ]
  },
  {
   "cell_type": "code",
   "execution_count": null,
   "metadata": {},
   "outputs": [],
   "source": []
  },
  {
   "cell_type": "code",
   "execution_count": null,
   "metadata": {},
   "outputs": [],
   "source": [
    "command = [\"bash\",'../test/run_test_job_script.sh']\n",
    "cas_offinder_run = subprocess.Popen(\n",
    "    command,\n",
    "    stdin=subprocess.PIPE,\n",
    "    stdout=subprocess.PIPE,\n",
    "    stderr=subprocess.PIPE,\n",
    "    text=True,\n",
    ")"
   ]
  },
  {
   "cell_type": "code",
   "execution_count": null,
   "metadata": {},
   "outputs": [],
   "source": [
    "output, log = cas_offinder_run.communicate()"
   ]
  },
  {
   "cell_type": "code",
   "execution_count": null,
   "metadata": {},
   "outputs": [],
   "source": [
    "print(output)"
   ]
  },
  {
   "cell_type": "code",
   "execution_count": null,
   "metadata": {},
   "outputs": [],
   "source": [
    "print(log)"
   ]
  },
  {
   "cell_type": "code",
   "execution_count": null,
   "metadata": {},
   "outputs": [],
   "source": []
  },
  {
   "cell_type": "code",
   "execution_count": null,
   "metadata": {},
   "outputs": [],
   "source": []
  },
  {
   "cell_type": "code",
   "execution_count": null,
   "metadata": {},
   "outputs": [],
   "source": [
    "_seq_1 = 'ACGTAA'\n",
    "_seq_2 = 'ACGTAA'\n",
    "_mismatch_seq_list = ['AAGTAA','ACATAA','ACGAAA','ACGTCA','ACGTGG']"
   ]
  },
  {
   "cell_type": "code",
   "execution_count": null,
   "metadata": {},
   "outputs": [],
   "source": []
  },
  {
   "cell_type": "code",
   "execution_count": null,
   "metadata": {},
   "outputs": [],
   "source": [
    "np.sum(np.clip(one_hot_encoder.seq_encoder(_seq_1) - one_hot_encoder.seq_encoder(_seq_2),0,None))"
   ]
  },
  {
   "cell_type": "code",
   "execution_count": null,
   "metadata": {},
   "outputs": [],
   "source": [
    "mismatch_calculator.seq_mismatch_count_list(_seq_1,_mismatch_seq_list)"
   ]
  },
  {
   "cell_type": "code",
   "execution_count": null,
   "metadata": {
    "scrolled": false
   },
   "outputs": [],
   "source": []
  },
  {
   "cell_type": "code",
   "execution_count": null,
   "metadata": {},
   "outputs": [],
   "source": []
  },
  {
   "cell_type": "code",
   "execution_count": null,
   "metadata": {},
   "outputs": [],
   "source": []
  },
  {
   "cell_type": "code",
   "execution_count": null,
   "metadata": {},
   "outputs": [],
   "source": []
  },
  {
   "cell_type": "code",
   "execution_count": null,
   "metadata": {},
   "outputs": [],
   "source": []
  },
  {
   "cell_type": "code",
   "execution_count": null,
   "metadata": {},
   "outputs": [],
   "source": []
  },
  {
   "cell_type": "code",
   "execution_count": null,
   "metadata": {},
   "outputs": [],
   "source": [
    "ontarget_text_file_path = '/root/volume/q-seq-maker/data/other_paper_data/KHB_Cpf1_1.txt'\n"
   ]
  },
  {
   "cell_type": "code",
   "execution_count": null,
   "metadata": {},
   "outputs": [],
   "source": [
    "with open(ontarget_text_file_path,'r') as f:\n",
    "    data = f.read().splitlines()"
   ]
  },
  {
   "cell_type": "code",
   "execution_count": null,
   "metadata": {},
   "outputs": [],
   "source": [
    "data"
   ]
  },
  {
   "cell_type": "code",
   "execution_count": null,
   "metadata": {},
   "outputs": [],
   "source": [
    "%timeit data[0].find('#')\n",
    "%timeit '#' in data[0]\n",
    "%timeit p.findall(data[0])"
   ]
  },
  {
   "cell_type": "code",
   "execution_count": null,
   "metadata": {},
   "outputs": [],
   "source": []
  },
  {
   "cell_type": "code",
   "execution_count": null,
   "metadata": {},
   "outputs": [],
   "source": [
    "data_list = []\n",
    "for _line in data:\n",
    "    if '#' in _line:\n",
    "        continue\n",
    "    else:\n",
    "        data_list.append(_line.upper())"
   ]
  },
  {
   "cell_type": "code",
   "execution_count": null,
   "metadata": {},
   "outputs": [],
   "source": [
    "data_list"
   ]
  },
  {
   "cell_type": "code",
   "execution_count": null,
   "metadata": {},
   "outputs": [],
   "source": [
    "import editdistance as edis"
   ]
  },
  {
   "cell_type": "code",
   "execution_count": null,
   "metadata": {},
   "outputs": [],
   "source": [
    "edis.eval('abcd','abdd')"
   ]
  },
  {
   "cell_type": "code",
   "execution_count": null,
   "metadata": {},
   "outputs": [],
   "source": [
    "on_list = ['CCGGGGGCGGGGTGGGGGGG',\n",
    "'GGCCTGGGCAGGATAAAAAA',\n",
    "'CCTCTTCATTAATAAATTTA',\n",
    "'GTAGAGACGCGCGGGGGGGG',\n",
    "'CAAAAAAGGAAACCAATATT',\n",
    "'ATTTAGACAGAAGGGATAAA',\n",
    "'AAAAATAAATTAAAAGTGGC',\n",
    "'TGTTTTCATTTTTTATCCTA',]"
   ]
  },
  {
   "cell_type": "code",
   "execution_count": null,
   "metadata": {},
   "outputs": [],
   "source": [
    "test_seq = ['AGGAGCGGAAGTCTCCGGGG','AAGGCCCCAAGCTAGCCCTG']"
   ]
  },
  {
   "cell_type": "code",
   "execution_count": null,
   "metadata": {},
   "outputs": [],
   "source": [
    "for _t_seq in test_seq:\n",
    "    print(_t_seq)\n",
    "    for _o_seq in on_list:\n",
    "        _dis = edis.eval(_t_seq,_o_seq)\n",
    "        print(_dis)\n",
    "    print('#############')"
   ]
  },
  {
   "cell_type": "code",
   "execution_count": null,
   "metadata": {},
   "outputs": [],
   "source": [
    "on_list_all = [\n",
    "'GGTGCCAGGACAGTGGGGTA',\n",
    "'CTGACCTGCTGGATTACATC',\n",
    "'AGGAGTGTTCAGTCTCCGTG',\n",
    "'CTGATGGTCCATACTTGTTA',\n",
    "'TCATCTGTGCCCCTCCCTCC',\n",
    "'TTTTAGCTGAAGGGAAATAA',\n",
    "'GATCGAATCTTCTAGCCCTT',\n",
    "'TTTCCCTTCAGCTAAAATAA',\n",
    "\n",
    "'CCGGGGGCGGGGTGGGGGGG',\n",
    "'GGCCTGGGCAGGATAAAAAA',\n",
    "'AAGGCCCCAAGCTAGCCCTG',\n",
    "'CCTCTTCATTAATAAATTTA',\n",
    "'GTAGAGACGCGCGGGGGGGG',\n",
    "'TATATGTCTTCTGCCAGCGA',\n",
    "'CAAAAAAGGAAACCAATATT',\n",
    "'ATTTAGACAGAAGGGATAAA',\n",
    "'AAAAATAAATTAAAAGTGGC',\n",
    "'TGTTTTCATTTTTTATCCTA',\n",
    "]\n",
    "on_list_all = [\n",
    "'GGTGCCAGGACAGTGGGGTA',\n",
    "'CTGACCTGCTGGATTACATC',\n",
    "'AGGAGTGTTCAGTCTCCGTG',\n",
    "'CTGATGGTCCATACTTGTTA',\n",
    "'TCATCTGTGCCCCTCCCTCC',\n",
    "'TTTTAGCTGAAGGGAAATAA',\n",
    "'GATCGAATCTTCTAGCCCTT',\n",
    "'TTTCCCTTCAGCTAAAATAA',\n",
    "\n",
    "'CTCTATTTTACCTCCCCCAG',\n",
    "'CTCCATTTTACCTCCCCCAG',\n",
    "]"
   ]
  },
  {
   "cell_type": "code",
   "execution_count": null,
   "metadata": {},
   "outputs": [],
   "source": [
    "search_list = on_list_all\n",
    "dis_matrix = []\n",
    "num = len(search_list)\n",
    "for i in range(num):\n",
    "    tmp_list = []\n",
    "    for j in range(num):\n",
    "        if i == j:\n",
    "            tmp_list.append(999)\n",
    "        else:\n",
    "            tmp_list.append(edis.eval(search_list[i],search_list[j]))\n",
    "    dis_matrix.append(tmp_list)\n",
    "dis_matrix = np.array(dis_matrix)"
   ]
  },
  {
   "cell_type": "code",
   "execution_count": null,
   "metadata": {},
   "outputs": [],
   "source": [
    "print(dis_matrix)"
   ]
  },
  {
   "cell_type": "code",
   "execution_count": null,
   "metadata": {},
   "outputs": [],
   "source": [
    "print(dis_matrix.any()<6)"
   ]
  },
  {
   "cell_type": "code",
   "execution_count": null,
   "metadata": {},
   "outputs": [],
   "source": [
    "edis.eval('TTTTAGCTGAAGGGAAATAA','ATTTAGACAGAAGGGATAAA')"
   ]
  },
  {
   "cell_type": "code",
   "execution_count": null,
   "metadata": {},
   "outputs": [],
   "source": []
  }
 ],
 "metadata": {
  "kernelspec": {
   "display_name": "Python 3",
   "language": "python",
   "name": "python3"
  },
  "language_info": {
   "codemirror_mode": {
    "name": "ipython",
    "version": 3
   },
   "file_extension": ".py",
   "mimetype": "text/x-python",
   "name": "python",
   "nbconvert_exporter": "python",
   "pygments_lexer": "ipython3",
   "version": "3.7.9"
  }
 },
 "nbformat": 4,
 "nbformat_minor": 5
}
