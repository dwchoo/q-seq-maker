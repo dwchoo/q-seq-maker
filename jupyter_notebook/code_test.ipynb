{
 "cells": [
  {
   "cell_type": "code",
   "execution_count": 1,
   "id": "chief-damage",
   "metadata": {},
   "outputs": [
    {
     "data": {
      "text/html": [
       "<style>.container {width:95% !important;}</style>"
      ],
      "text/plain": [
       "<IPython.core.display.HTML object>"
      ]
     },
     "metadata": {},
     "output_type": "display_data"
    }
   ],
   "source": [
    "from IPython.core.display import display, HTML\n",
    "display(HTML(\"<style>.container {width:95% !important;}</style>\"))\n",
    "%load_ext autoreload\n",
    "%autoreload 2"
   ]
  },
  {
   "cell_type": "code",
   "execution_count": 2,
   "id": "geological-quilt",
   "metadata": {},
   "outputs": [],
   "source": [
    "import os\n",
    "import sys\n",
    "module_path = os.path.abspath(os.path.join('..'))\n",
    "if module_path not in sys.path:\n",
    "    sys.path.append(module_path)"
   ]
  },
  {
   "cell_type": "code",
   "execution_count": 72,
   "id": "stunning-thanksgiving",
   "metadata": {},
   "outputs": [],
   "source": [
    "from seq_generator.query_generator import *\n",
    "from seq_generator.mismatch_generator import *\n",
    "from encoder_decoder.seq_encoder_decoder import *\n",
    "#import encoder_decoder.seq_encoder_decoder"
   ]
  },
  {
   "cell_type": "code",
   "execution_count": 4,
   "id": "egyptian-webster",
   "metadata": {},
   "outputs": [],
   "source": [
    "import numpy as np"
   ]
  },
  {
   "cell_type": "code",
   "execution_count": 5,
   "id": "necessary-february",
   "metadata": {},
   "outputs": [],
   "source": [
    "tmp_data = generate_8_nC2_data(\n",
    "    num_set = 1,\n",
    "    threshold = 7,\n",
    "    log = True,\n",
    "    job_name = 'test',\n",
    "    save_path = '.'\n",
    ")"
   ]
  },
  {
   "cell_type": "code",
   "execution_count": 73,
   "id": "concerned-viking",
   "metadata": {},
   "outputs": [
    {
     "data": {
      "text/plain": [
       "array(['TACATTTTATTTTTAAATAG', 'GTAGCTAATCGTAACGGGTC',\n",
       "       'AATTATACAGCGCTATCAAT', 'TTACTTACGCCGCGGGGCCG',\n",
       "       'TCCATCGATATCTAAAAATT', 'CGGGGCCCAAGATAGCCGGC',\n",
       "       'AGCCTACCCGGGGCAATATA', 'GCCGAGTGTGCCGGCGTCAC'], dtype='<U20')"
      ]
     },
     "execution_count": 73,
     "metadata": {},
     "output_type": "execute_result"
    }
   ],
   "source": [
    "tmp_query = tmp_data.query_data\n",
    "tmp_query"
   ]
  },
  {
   "cell_type": "code",
   "execution_count": 74,
   "id": "separate-wales",
   "metadata": {},
   "outputs": [
    {
     "data": {
      "text/plain": [
       "[('222', 'TACATTTTATTTTTAAATAG'),\n",
       " ('221', 'GTAGCTAATCGTAACGGGTC'),\n",
       " ('212', 'AATTATACAGCGCTATCAAT'),\n",
       " ('211', 'TTACTTACGCCGCGGGGCCG'),\n",
       " ('122', 'TCCATCGATATCTAAAAATT'),\n",
       " ('121', 'CGGGGCCCAAGATAGCCGGC'),\n",
       " ('112', 'AGCCTACCCGGGGCAATATA'),\n",
       " ('111', 'GCCGAGTGTGCCGGCGTCAC')]"
      ]
     },
     "execution_count": 74,
     "metadata": {},
     "output_type": "execute_result"
    }
   ],
   "source": [
    "query_type_code_encoder.batch_seq_type_code_encoder(tmp_query)"
   ]
  },
  {
   "cell_type": "code",
   "execution_count": 64,
   "id": "broad-import",
   "metadata": {},
   "outputs": [],
   "source": [
    "seq_list = tmp_query\n",
    "batch_type_code_seq_list = []\n",
    "for _seq in seq_list:\n",
    "    _type_code = query_type_code_encoder.seq_type_code_encoder(_seq)\n",
    "    batch_type_code_seq_list.append((_type_code,_seq))"
   ]
  },
  {
   "cell_type": "code",
   "execution_count": 66,
   "id": "athletic-purchase",
   "metadata": {},
   "outputs": [
    {
     "data": {
      "text/plain": [
       "array([['222', 'TACATTTTATTTTTAAATAG'],\n",
       "       ['221', 'GTAGCTAATCGTAACGGGTC'],\n",
       "       ['212', 'AATTATACAGCGCTATCAAT'],\n",
       "       ['211', 'TTACTTACGCCGCGGGGCCG'],\n",
       "       ['122', 'TCCATCGATATCTAAAAATT'],\n",
       "       ['121', 'CGGGGCCCAAGATAGCCGGC'],\n",
       "       ['112', 'AGCCTACCCGGGGCAATATA'],\n",
       "       ['111', 'GCCGAGTGTGCCGGCGTCAC']], dtype='<U20')"
      ]
     },
     "execution_count": 66,
     "metadata": {},
     "output_type": "execute_result"
    }
   ],
   "source": [
    "np.array(batch_type_code_seq_list)"
   ]
  },
  {
   "cell_type": "code",
   "execution_count": 67,
   "id": "above-evans",
   "metadata": {},
   "outputs": [
    {
     "data": {
      "text/plain": [
       "1"
      ]
     },
     "execution_count": 67,
     "metadata": {},
     "output_type": "execute_result"
    }
   ],
   "source": [
    "len(seq_list.shape)"
   ]
  },
  {
   "cell_type": "code",
   "execution_count": 70,
   "id": "olympic-chamber",
   "metadata": {},
   "outputs": [
    {
     "data": {
      "text/plain": [
       "dtype('<U20')"
      ]
     },
     "execution_count": 70,
     "metadata": {},
     "output_type": "execute_result"
    }
   ],
   "source": [
    "seq_list.dtype"
   ]
  },
  {
   "cell_type": "code",
   "execution_count": 42,
   "id": "assured-contest",
   "metadata": {},
   "outputs": [
    {
     "data": {
      "text/plain": [
       "2"
      ]
     },
     "execution_count": 42,
     "metadata": {},
     "output_type": "execute_result"
    }
   ],
   "source": [
    "return_code(query_seq[7:14])"
   ]
  },
  {
   "cell_type": "code",
   "execution_count": 40,
   "id": "twenty-lincoln",
   "metadata": {},
   "outputs": [
    {
     "name": "stdout",
     "output_type": "stream",
     "text": [
      "> \u001b[0;32m<ipython-input-38-0217899fea18>\u001b[0m(24)\u001b[0;36mreturn_code\u001b[0;34m()\u001b[0m\n",
      "\u001b[0;32m     22 \u001b[0;31m    '''\n",
      "\u001b[0m\u001b[0;32m     23 \u001b[0;31m    \u001b[0mgc_at_sum\u001b[0m \u001b[0;34m=\u001b[0m \u001b[0mnp\u001b[0m\u001b[0;34m.\u001b[0m\u001b[0msum\u001b[0m\u001b[0;34m(\u001b[0m\u001b[0mseq_block\u001b[0m\u001b[0;34m,\u001b[0m \u001b[0maxis\u001b[0m\u001b[0;34m=\u001b[0m\u001b[0;36m0\u001b[0m\u001b[0;34m)\u001b[0m\u001b[0;34m\u001b[0m\u001b[0;34m\u001b[0m\u001b[0m\n",
      "\u001b[0m\u001b[0;32m---> 24 \u001b[0;31m    \u001b[0;32massert\u001b[0m \u001b[0mgc_at_sum\u001b[0m\u001b[0;34m.\u001b[0m\u001b[0mshape\u001b[0m\u001b[0;34m[\u001b[0m\u001b[0;36m1\u001b[0m\u001b[0;34m]\u001b[0m \u001b[0;34m==\u001b[0m \u001b[0;36m2\u001b[0m\u001b[0;34m,\u001b[0m \u001b[0;34mf\"Check seq_block shape, {gc_at_sum.shape}\"\u001b[0m\u001b[0;34m\u001b[0m\u001b[0;34m\u001b[0m\u001b[0m\n",
      "\u001b[0m\u001b[0;32m     25 \u001b[0;31m    \u001b[0;32mif\u001b[0m \u001b[0mnp\u001b[0m\u001b[0;34m.\u001b[0m\u001b[0mgreater\u001b[0m\u001b[0;34m(\u001b[0m\u001b[0;34m*\u001b[0m\u001b[0mgc_at_sum\u001b[0m\u001b[0;34m)\u001b[0m\u001b[0;34m:\u001b[0m\u001b[0;34m\u001b[0m\u001b[0;34m\u001b[0m\u001b[0m\n",
      "\u001b[0m\u001b[0;32m     26 \u001b[0;31m        \u001b[0;32mreturn\u001b[0m \u001b[0;36m1\u001b[0m\u001b[0;34m\u001b[0m\u001b[0;34m\u001b[0m\u001b[0m\n",
      "\u001b[0m\n",
      "ipdb> gc_at_sum\n",
      "array([0, 7])\n",
      "ipdb> gc_at_sum.shape\n",
      "(2,)\n",
      "ipdb> exit\n"
     ]
    }
   ],
   "source": [
    "%debug"
   ]
  },
  {
   "cell_type": "code",
   "execution_count": 25,
   "id": "subject-share",
   "metadata": {},
   "outputs": [
    {
     "data": {
      "text/plain": [
       "array([[0, 1],\n",
       "       [0, 1],\n",
       "       [0, 1],\n",
       "       [0, 1],\n",
       "       [0, 1],\n",
       "       [1, 0]], dtype=int8)"
      ]
     },
     "execution_count": 25,
     "metadata": {},
     "output_type": "execute_result"
    }
   ],
   "source": [
    "query_seq[14:20]\n"
   ]
  },
  {
   "cell_type": "code",
   "execution_count": null,
   "id": "forty-sauce",
   "metadata": {},
   "outputs": [],
   "source": []
  }
 ],
 "metadata": {
  "kernelspec": {
   "display_name": "Python 3",
   "language": "python",
   "name": "python3"
  },
  "language_info": {
   "codemirror_mode": {
    "name": "ipython",
    "version": 3
   },
   "file_extension": ".py",
   "mimetype": "text/x-python",
   "name": "python",
   "nbconvert_exporter": "python",
   "pygments_lexer": "ipython3",
   "version": "3.7.9"
  }
 },
 "nbformat": 4,
 "nbformat_minor": 5
}
